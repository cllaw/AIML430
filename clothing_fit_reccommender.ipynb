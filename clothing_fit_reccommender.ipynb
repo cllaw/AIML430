{
 "cells": [
  {
   "cell_type": "markdown",
   "id": "6b00bea3",
   "metadata": {},
   "source": [
    "Do Imports"
   ]
  },
  {
   "cell_type": "code",
   "execution_count": 1,
   "id": "81cf91ed",
   "metadata": {},
   "outputs": [
    {
     "name": "stderr",
     "output_type": "stream",
     "text": [
      "[nltk_data] Downloading package omw-1.4 to /Users/chex/nltk_data...\n",
      "[nltk_data]   Package omw-1.4 is already up-to-date!\n"
     ]
    },
    {
     "data": {
      "text/plain": [
       "True"
      ]
     },
     "execution_count": 1,
     "metadata": {},
     "output_type": "execute_result"
    }
   ],
   "source": [
    "# This is a pre requirement to the 'pattern framework below'\n",
    "import nltk\n",
    "nltk.download('omw-1.4')"
   ]
  },
  {
   "cell_type": "code",
   "execution_count": 145,
   "id": "c47196ee",
   "metadata": {},
   "outputs": [],
   "source": [
    "from pattern.web import Twitter\n",
    "from pattern.text.en import tag\n",
    "from pattern.vector import KNN, count\n",
    "from tqdm import tqdm\n",
    "import pandas as pd\n"
   ]
  },
  {
   "cell_type": "code",
   "execution_count": 3,
   "id": "16cff864",
   "metadata": {},
   "outputs": [],
   "source": [
    "# Test loading the dataset\n",
    "df = pd.read_json('./datasets/renttherunway_final_data.json')"
   ]
  },
  {
   "cell_type": "code",
   "execution_count": 215,
   "id": "00c92fc9",
   "metadata": {},
   "outputs": [
    {
     "name": "stderr",
     "output_type": "stream",
     "text": [
      "10000it [00:00, 16970.26it/s]\n"
     ]
    },
    {
     "name": "stdout",
     "output_type": "stream",
     "text": [
      "Amount of positive words: 6458\n",
      "Amount of negative words: 46\n",
      "Computing list of positive words...\n",
      "Computing list of negative words...\n",
      "Done\n"
     ]
    }
   ],
   "source": [
    "# seperate all the good reviews from the bad reviews\n",
    "# get a list of adjectives of the good reviews and train those to be 'Positive'\n",
    "# get a list of adjectives of the bad reviews and train those to be 'Negative'\n",
    "\n",
    "good_df = []\n",
    "bad_df = []\n",
    "\n",
    "# TODO: Need to split this data set into 70 / 15 / 15 set for training / validation / test\n",
    "#for index, row in df.iterrows():\n",
    "for index, row in tqdm(df[0:10000].iterrows()):\n",
    "    if row['rating'] >= 9:\n",
    "        good_df.append(row)\n",
    "    elif row['rating'] <= 2:\n",
    "        bad_df.append(row)\n",
    "    else:\n",
    "        continue\n",
    "    \n",
    "print(f\"Amount of positive reviews: {len(good_df)}\")\n",
    "print(f\"Amount of negative reviews: {len(bad_df)}\")\n",
    "good_result = pd.concat(good_df)\n",
    "bad_result = pd.concat(bad_df)\n",
    "\n",
    "# generate list of good words\n",
    "good_words = []\n",
    "bad_words = []\n",
    "\n",
    "print(\"Computing list of positive words...\")\n",
    "for item in good_result['review_text']:\n",
    "    v = tag(item)\n",
    "    v = [word for word, pos in v if pos == 'JJ'] # JJ = adjective\n",
    "    v = count(v) # {'sweet': 1}\n",
    "    good_words += list(v.keys())\n",
    "    \n",
    "print(\"Computing list of negative words...\")\n",
    "for item in bad_result['review_text']:\n",
    "    v = tag(item)\n",
    "    v = [word for word, pos in v if pos == 'JJ']\n",
    "    v = count(v)\n",
    "    bad_words += list(v.keys())\n",
    "\n",
    "print(\"Done\")\n",
    "# print(result.shape[0])"
   ]
  },
  {
   "cell_type": "code",
   "execution_count": 216,
   "id": "2d38b861",
   "metadata": {},
   "outputs": [
    {
     "name": "stdout",
     "output_type": "stream",
     "text": [
      "Total amount of positive words: 28867\n",
      "Total amount of negative words: 135\n"
     ]
    }
   ],
   "source": [
    "print(f\"Total amount of positive words: {len(good_words)}\")\n",
    "print(f\"Total amount of negative words: {len(bad_words)}\")"
   ]
  },
  {
   "cell_type": "markdown",
   "id": "249b955a",
   "metadata": {},
   "source": [
    "TODO: Change this with the main review text from above\n",
    "Look into ways to classify the customer sentiment\n",
    "Experiment how much you need to change the dataset by in order to change sentiment\n",
    "\n",
    "Further:\n",
    "Look into and document this model and how it operates\n",
    "It's type, size etc to help with report writing\n",
    "\n",
    "training on bad words, while the rest is deemed positive\n",
    "can look to reerse this and compare"
   ]
  },
  {
   "cell_type": "code",
   "execution_count": 220,
   "id": "bc09b131",
   "metadata": {},
   "outputs": [
    {
     "name": "stdout",
     "output_type": "stream",
     "text": [
      "Length of complete bad list 91\n",
      "Length of filtered bad list 12\n",
      "Test non filtered ['able', 'gala', 'low', 'okay', 'unforgiving', 'sequin', 'curvy', 'ridiculous', 'petite', 'regular', 'stiff', 'extra', 'lumpy', 'back-up', 'thick', 'generous', 'beautiful', 'overall', 'unsewn', 'short', 'pregnant', 'hippy', 'excited', 'lovely', 'needless', 'tight', 'perfect', 'actual', 'form', 'alternative', 'spot-on', 'third', 'alternate', 'single', 'unflattering', 'little', 'heavy', 'super', 'comfortable', 'highlighted', 'reliable', 'fine', 'stylish', 'pretty', 'hanging', 'flimsy', 'v', \"5'7\", 'white', 'double', 'happy', '34c', 'front', 'boxy', 'bad', 'hard', 'lightweight', 'similar', 'disappointed', '34d', 'shapeless', 'fit', 'true', 'awful', 'online', 'xtra', 'adidas', 'tall', 'unwearable', 'miss', 'bizarre', 'peplum', 'cute', '25in', 'amazing', '18w', 'due', 'thin', 'rouching', \"5'8\", 'available', 'careful', 'fitting', 'safe', 'odd', 'dated', 'terrible', 'bummer....great', 'disappointing', 'airy', 'unable']\n",
      "Test filtered ['unsewn', 'spot-on', 'reliable', 'hanging', 'xtra', 'adidas', 'miss', 'bizarre', 'peplum', '25in', 'dated', 'bummer....great']\n"
     ]
    },
    {
     "name": "stderr",
     "output_type": "stream",
     "text": [
      "100%|████████████████████████████████████████████| 1000/1000 [00:04<00:00, 245.49it/s]"
     ]
    },
    {
     "name": "stdout",
     "output_type": "stream",
     "text": [
      "Training done\n"
     ]
    },
    {
     "name": "stderr",
     "output_type": "stream",
     "text": [
      "\n"
     ]
    }
   ],
   "source": [
    "# train the model on dataset\n",
    "\n",
    "twitter, knn = Twitter(), KNN()\n",
    "\n",
    "bad_words_final = list(set(bad_words))\n",
    "good_words_final = list(set(good_words))\n",
    "# print(bad_words_final)\n",
    "\n",
    "# issue here is that the bad_list files have positive words - need to filter these out and seperate them from the \n",
    "# good words in order to train the model accurately\n",
    "# OR fix/verify the below list comprehension method?\n",
    "\n",
    "bad_words_final_filtered = [i for i in bad_words_final if i not in good_words_final]\n",
    "\n",
    "print(\"Length of complete bad list\", len(bad_words_final))\n",
    "print(\"Length of filtered bad list\", len(bad_words_final_filtered))\n",
    "\n",
    "print(\"Test non filtered\", bad_words_final)\n",
    "print(\"Test filtered\", bad_words_final_filtered)\n",
    "\n",
    "for text in tqdm(df['review_text'][0:1000]):\n",
    "    v = tag(text)\n",
    "    v = [word for word, pos in v if pos == 'JJ'] # JJ = adjective\n",
    "    v = count(v) # {'sweet': 1}\n",
    "    \n",
    "#     print(\"list of adjectives to compare against\", list(v.keys()))\n",
    "    if any(word in bad_words_final_filtered for word in list(v.keys())):\n",
    "        p = 'Bad'\n",
    "    else:\n",
    "        p = 'Good'\n",
    "    \n",
    "#     print(p)\n",
    "#     print(\"---\")\n",
    "    if v:\n",
    "        knn.train(v, type=p)\n",
    "\n",
    "print(\"Training done\")"
   ]
  },
  {
   "cell_type": "code",
   "execution_count": 221,
   "id": "ddca515f",
   "metadata": {},
   "outputs": [
    {
     "name": "stdout",
     "output_type": "stream",
     "text": [
      "Good\n",
      "Good\n",
      "Good\n",
      "Good\n"
     ]
    }
   ],
   "source": [
    "# test output\n",
    "print(knn.classify(\"this dress is really lovely. it's got great lines and does amazing things for your bust. however, the two slits have a kind of loin-cloth effect\"))\n",
    "print(knn.classify('beautiful cute dress'))\n",
    "print(knn.classify('not reccommend unforgiving short lumpy stiff and needless, disappointing awful time'))\n",
    "print(knn.classify('uncomfortable shapeless unflattering'))"
   ]
  },
  {
   "cell_type": "code",
   "execution_count": null,
   "id": "836eb2b1",
   "metadata": {},
   "outputs": [],
   "source": []
  }
 ],
 "metadata": {
  "kernelspec": {
   "display_name": "Python 3 (ipykernel)",
   "language": "python",
   "name": "python3"
  },
  "language_info": {
   "codemirror_mode": {
    "name": "ipython",
    "version": 3
   },
   "file_extension": ".py",
   "mimetype": "text/x-python",
   "name": "python",
   "nbconvert_exporter": "python",
   "pygments_lexer": "ipython3",
   "version": "3.9.13"
  }
 },
 "nbformat": 4,
 "nbformat_minor": 5
}
