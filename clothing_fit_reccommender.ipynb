{
 "cells": [
  {
   "cell_type": "markdown",
   "id": "1e57a74b",
   "metadata": {},
   "source": [
    "# Clothing Reviews and predictive sentiment analysis"
   ]
  },
  {
   "cell_type": "markdown",
   "id": "6b00bea3",
   "metadata": {},
   "source": [
    "Do Imports"
   ]
  },
  {
   "cell_type": "code",
   "execution_count": null,
   "id": "81cf91ed",
   "metadata": {},
   "outputs": [],
   "source": [
    "# This is a pre requirement to the 'pattern framework below'\n",
    "import nltk\n",
    "nltk.download('omw-1.4')"
   ]
  },
  {
   "cell_type": "code",
   "execution_count": null,
   "id": "c47196ee",
   "metadata": {},
   "outputs": [],
   "source": [
    "from pattern.web import Twitter\n",
    "from pattern.text.en import tag\n",
    "from pattern.vector import KNN, count\n",
    "from tqdm import tqdm\n",
    "import pandas as pd\n",
    "import json\n"
   ]
  },
  {
   "cell_type": "code",
   "execution_count": null,
   "id": "16cff864",
   "metadata": {},
   "outputs": [],
   "source": [
    "# Test loading the dataset\n",
    "df = pd.read_json('./datasets/renttherunway_final_data.json')\n",
    "print(\"Total records:\", df.shape[0])\n",
    "print(\"Train\", round(df.shape[0] * 0.7))\n",
    "print(\"Test\", round(df.shape[0] * 0.3))"
   ]
  },
  {
   "cell_type": "markdown",
   "id": "93372da7",
   "metadata": {},
   "source": [
    "Do some experimentation and analysis of the bias of lower reviews to correlation of the size of dress and age"
   ]
  },
  {
   "cell_type": "code",
   "execution_count": null,
   "id": "3023ff9c",
   "metadata": {},
   "outputs": [],
   "source": [
    "print(df.head())"
   ]
  },
  {
   "cell_type": "code",
   "execution_count": null,
   "id": "85697891",
   "metadata": {},
   "outputs": [],
   "source": [
    "# try and find any bias of rating and dress size\n",
    "# generate unique set of keys in the dataset\n",
    "# build dict to be used in analysis\n",
    "\n",
    "all_values = {\n",
    "    '1.0': {\n",
    "        \"total\": 0,\n",
    "        \"body_type\": [{\"hourglass\": 0, \"apple\": 0}],\n",
    "        \"age\": [{\"<20\": 0, \">30\": 0}],\n",
    "        \"size\": [{\"14\": 0, \"6\":0}]\n",
    "    },\n",
    "    '2.0': {\n",
    "        \"total\": 0,\n",
    "        \"body_type\": [{\"hourglass\": 0, \"apple\": 0}],\n",
    "        \"age\": [{\"<20\": 0, \">30\": 0}],\n",
    "        \"size\": [{\"14\": 0, \"6\":0}]\n",
    "    },\n",
    "    '3.0': {\n",
    "        \"total\": 0,\n",
    "        \"body_type\": [{\"hourglass\": 0, \"apple\": 0}],\n",
    "        \"age\": [{\"<20\": 0, \">30\": 0}],\n",
    "        \"size\": [{\"14\": 0, \"6\":0}]\n",
    "    },\n",
    "    '4.0': {\n",
    "        \"total\": 0,\n",
    "        \"body_type\": [{\"hourglass\": 0, \"apple\": 0}],\n",
    "        \"age\": [{\"<20\": 0, \">30\": 0}],\n",
    "        \"size\": [{\"14\": 0, \"6\":0}]\n",
    "    },\n",
    "    '5.0': {\n",
    "        \"total\": 0,\n",
    "        \"body_type\": [{\"hourglass\": 0, \"apple\": 0}],\n",
    "        \"age\": [{\"<20\": 0, \">30\": 0}],\n",
    "        \"size\": [{\"14\": 0, \"6\":0}]\n",
    "    },\n",
    "    '6.0': {\n",
    "        \"total\": 0,\n",
    "        \"body_type\": [{\"hourglass\": 0, \"apple\": 0}],\n",
    "        \"age\": [{\"<20\": 0, \">30\": 0}],\n",
    "        \"size\": [{\"14\": 0, \"6\":0}]\n",
    "    },\n",
    "    '7.0': {\n",
    "        \"total\": 0,\n",
    "        \"body_type\": [{\"hourglass\": 0, \"apple\": 0}],\n",
    "        \"age\": [{\"<20\": 0, \">30\": 0}],\n",
    "        \"size\": [{\"14\": 0, \"6\":0}]\n",
    "    },\n",
    "    '8.0': {\n",
    "        \"total\": 0,\n",
    "        \"body_type\": [{\"hourglass\": 0, \"apple\": 0}],\n",
    "        \"age\": [{\"<20\": 0, \">30\": 0}],\n",
    "        \"size\": [{\"14\": 0, \"6\":0}]\n",
    "    },\n",
    "    '9.0': {\n",
    "        \"total\": 0,\n",
    "        \"body_type\": [{\"hourglass\": 0, \"apple\": 0}],\n",
    "        \"age\": [{\"<20\": 0, \">30\": 0}],\n",
    "        \"size\": [{\"14\": 0, \"6\":0}]\n",
    "    },\n",
    "    '10.0': {\n",
    "        \"total\": 0,\n",
    "        \"body_type\": [{\"hourglass\": 0, \"apple\": 0}],\n",
    "        \"age\": [{\"<20\": 0, \">30\": 0}],\n",
    "        \"size\": [{\"14\": 0, \"6\":0}]\n",
    "    },\n",
    "    'nan': {\n",
    "        \"total\": 0,\n",
    "        \"body_type\": [{\"hourglass\": 0, \"apple\": 0}],\n",
    "        \"age\": [{\"<20\": 0, \">30\": 0}],\n",
    "        \"size\": [{\"14\": 0, \"6\":0}]\n",
    "    },\n",
    "}\n",
    "\n",
    "sizes_set = set()\n",
    "body_type_set = set()\n",
    "\n",
    "# print(df.head())\n",
    "for index, row in df.iterrows():\n",
    "    rating_key = str(row['rating'])\n",
    "    all_values[rating_key][\"total\"] += 1\n",
    "    \n",
    "    sizes_set.add(row[\"size\"])\n",
    "    body_type_set.add(row[\"body type\"])\n",
    "    \n",
    "    # TODO: use single variables here to automatically populate each size\n",
    "    if row['size'] >= 14:\n",
    "        all_values[rating_key][\"size\"][0][\"14\"] += 1\n",
    "    \n",
    "    if row['size'] <= 6:\n",
    "        all_values[rating_key][\"size\"][0][\"6\"] += 1\n",
    "    \n",
    "    if row['age'] >= 30.0:\n",
    "        all_values[rating_key][\"age\"][0][\">30\"] += 1\n",
    "    \n",
    "    if row['age'] <= 20.0:\n",
    "        all_values[rating_key][\"age\"][0][\"<20\"] += 1\n",
    "\n",
    "    if row['body type'] == 'hourglass':\n",
    "        all_values[rating_key][\"body_type\"][0][\"hourglass\"] += 1\n",
    "        \n",
    "    if row['body type'] == 'apple':\n",
    "        all_values[rating_key][\"body_type\"][0][\"apple\"] += 1\n",
    "\n",
    "total = 0\n",
    "for key in all_values:\n",
    "    total += all_values[key][\"total\"]\n",
    "    \n",
    "print(f\"Total records: {total}\")\n",
    "print(f\"All sizes: {sizes_set}\")\n",
    "print(f\"All body types: {body_type_set}\")"
   ]
  },
  {
   "cell_type": "code",
   "execution_count": null,
   "id": "a5e7c56f",
   "metadata": {},
   "outputs": [],
   "source": [
    "# To verify dataset, will delete this later\n",
    "print(all_values)"
   ]
  },
  {
   "cell_type": "markdown",
   "id": "52cba42e",
   "metadata": {},
   "source": [
    "# TODO: This will be a before stage, as we see the bias before hand.\n",
    "# After this, make some predictions with it\n",
    "# Note down assumptions and then try and modify dataset to skew towards a certain demographic.\n",
    "\n",
    "Need to modify the dataset and evaluate the following results with age, size, bust etc.\n",
    "See if there is any change to its prediction\n",
    "\n",
    "Highlight use case of data gap for a particular group of - eg age 34, apple sized body - see the amount reviews ratings for this compared to a more normal body type. \n",
    "\n",
    "Create display metric logic here - can run this again after removing certain datarows to balance things out."
   ]
  },
  {
   "cell_type": "code",
   "execution_count": null,
   "id": "256fc6c5",
   "metadata": {},
   "outputs": [],
   "source": [
    "rating_2_size_14 = all_values[\"2.0\"][\"size\"][0][\"14\"]\n",
    "rating_2_size_6 = all_values[\"2.0\"][\"size\"][0][\"6\"]\n",
    "rating_2_total = all_values[\"2.0\"][\"total\"]\n",
    "\n",
    "pct_size_14 = (rating_2_size_14 / rating_2_total) * 100\n",
    "pct_size_6 = (rating_2_size_6 / rating_2_total) * 100\n",
    "pct_rating_2_total = (rating_2_total / total) * 100\n",
    "\n",
    "total_size_14 = 0\n",
    "for key in all_values:\n",
    "    total_size_14 += all_values[key][\"size\"][0][\"14\"] \n",
    "    \n",
    "pct_size_14_total = (total_size_14 / total) * 100"
   ]
  },
  {
   "cell_type": "markdown",
   "id": "eb983a6b",
   "metadata": {},
   "source": [
    "Display display metrics here"
   ]
  },
  {
   "cell_type": "code",
   "execution_count": null,
   "id": "b8fbd22e",
   "metadata": {},
   "outputs": [],
   "source": [
    "print(f\"{pct_rating_2_total:.2f}% of 2 ratings in total ({rating_2_total}/{total})\")\n",
    "print(f\"{pct_size_14:.2f}% of 2 ratings were size 14 or greater ({rating_2_size_14}/{size_14_total_2})\")\n",
    "print(f\"{pct_size_6:.2f}% of 2 ratings were size 6 or less ({rating_2_size_6}/{size_14_total_2})\")\n",
    "print(f\"{pct_size_14_total:.2f}% of reviews are size 14 or greater ({total_size_14}/{total})\")"
   ]
  },
  {
   "cell_type": "markdown",
   "id": "a33b9086",
   "metadata": {},
   "source": [
    "Almost 40% of the dataset has a large dress size, 44% of these users had a bad experience with the dress. This shows a clear bias towards larger dress sizes being bad.\n",
    "\n",
    "# TODO: Aggregate sizes 2 and 4 together and define these as 'bad' <=4 as 1 and 3 ratings do not have any reviews"
   ]
  },
  {
   "cell_type": "code",
   "execution_count": null,
   "id": "38ee71f1",
   "metadata": {},
   "outputs": [],
   "source": []
  },
  {
   "cell_type": "markdown",
   "id": "3e578ba5",
   "metadata": {},
   "source": [
    "Here I have assumed that any review with a rating of 9 or higher is positive.\n",
    "Conversely, a rating of 3 or lower is considered negative."
   ]
  },
  {
   "cell_type": "code",
   "execution_count": null,
   "id": "77950bef",
   "metadata": {},
   "outputs": [],
   "source": [
    "# Initialize new model\n",
    "knn = KNN()\n",
    "\n",
    "# Train it to output a score based on input\n",
    "for index, row in tqdm(df[0:134781].iterrows()):\n",
    "    if row['rating'] >= 9:\n",
    "        v = tag(row['review_text'].lower())\n",
    "        # TODO see if we can add body type and age here to train the model with\n",
    "        # have a think about what we can use that for to predict...\n",
    "        v = [word for word, pos in v if pos == 'JJ'] # JJ = adjective\n",
    "        v = count(v)\n",
    "        p = \"good\"\n",
    "    elif row['rating'] <= 3:\n",
    "        v = tag(row['review_text'].lower())\n",
    "        v = [word for word, pos in v if pos == 'JJ'] # JJ = adjective\n",
    "        v = count(v)\n",
    "        p = \"bad\"\n",
    "    if v:\n",
    "        knn.train(v, type=p)\n"
   ]
  },
  {
   "cell_type": "markdown",
   "id": "bd84bbc0",
   "metadata": {},
   "source": [
    "The following reviews are placed into the classifier to test how good the outputs are. So far they are looking correct."
   ]
  },
  {
   "cell_type": "code",
   "execution_count": null,
   "id": "bb191423",
   "metadata": {},
   "outputs": [],
   "source": [
    "# test output\n",
    "print(knn.classify(\"this dress is really lovely. it's got great lines and does amazing things for your bust. however, the two slits have a kind of loin-cloth effect\"))\n",
    "print(knn.classify('uncomfortable shapeless unflattering'))\n",
    "print(knn.classify('beautiful cute dress'))\n",
    "print(knn.classify('not reccommend unforgiving short lumpy stiff and needless, disappointing awful time'))\n",
    "print(knn.classify('uncomfortable and unflattering'))"
   ]
  },
  {
   "cell_type": "code",
   "execution_count": null,
   "id": "14b7fed5",
   "metadata": {},
   "outputs": [],
   "source": []
  },
  {
   "cell_type": "markdown",
   "id": "e4ee4324",
   "metadata": {},
   "source": [
    "THE FOLLOWING CELLS ARE OLD, WILL PROBABLY DUMP"
   ]
  },
  {
   "cell_type": "code",
   "execution_count": null,
   "id": "7f9a9dec",
   "metadata": {},
   "outputs": [],
   "source": [
    "for index, row in df[135082:135582].iterrows():\n",
    "    prediction = knn.classify(row['review_text'].lower())\n",
    "    print(f\"Review has a rating of: {row['rating']}. Prediction: {prediction}\")\n",
    "    if prediction == \"bad\":\n",
    "        print(f\"Review: {row['review_text']}\")\n",
    "    print(\"-\" * 10)"
   ]
  },
  {
   "cell_type": "code",
   "execution_count": null,
   "id": "00c92fc9",
   "metadata": {},
   "outputs": [],
   "source": [
    "# seperate all the good reviews from the bad reviews\n",
    "# get a list of adjectives of the good reviews and train those to be 'Positive'\n",
    "# get a list of adjectives of the bad reviews and train those to be 'Negative'\n",
    "\n",
    "good_df = []\n",
    "bad_df = []\n",
    "\n",
    "# TODO: Need to split this data set into 70 / 15 set for training / test\n",
    "#for index, row in df.iterrows():\n",
    "for index, row in tqdm(df[0:10000].iterrows()):\n",
    "    if row['rating'] >= 9:\n",
    "        good_df.append(row)\n",
    "    elif row['rating'] <= 2:\n",
    "        bad_df.append(row)\n",
    "    else:\n",
    "        continue\n",
    "    \n",
    "print(f\"Amount of positive reviews: {len(good_df)}\")\n",
    "print(f\"Amount of negative reviews: {len(bad_df)}\")\n",
    "good_result = pd.concat(good_df)\n",
    "bad_result = pd.concat(bad_df)\n",
    "\n",
    "# generate list of good words\n",
    "good_words = []\n",
    "bad_words = []\n",
    "\n",
    "print(\"Computing list of positive words...\")\n",
    "for item in good_result['review_text']:\n",
    "    v = tag(item)\n",
    "    v = [word for word, pos in v if pos == 'JJ'] # JJ = adjective\n",
    "    v = count(v) # {'sweet': 1}\n",
    "    good_words += list(v.keys())\n",
    "    \n",
    "print(\"Computing list of negative words...\")\n",
    "for item in bad_result['review_text']:\n",
    "    v = tag(item)\n",
    "    v = [word for word, pos in v if pos == 'JJ']\n",
    "    v = count(v)\n",
    "    bad_words += list(v.keys())\n",
    "\n",
    "print(\"Done\")"
   ]
  },
  {
   "cell_type": "code",
   "execution_count": null,
   "id": "2d38b861",
   "metadata": {},
   "outputs": [],
   "source": [
    "print(f\"Total amount of positive words: {len(good_words)}\")\n",
    "print(f\"Total amount of negative words: {len(bad_words)}\")"
   ]
  },
  {
   "cell_type": "markdown",
   "id": "249b955a",
   "metadata": {},
   "source": [
    "TODO: Change this with the main review text from above\n",
    "Look into ways to classify the customer sentiment\n",
    "Experiment how much you need to change the dataset by in order to change sentiment\n",
    "\n",
    "Further:\n",
    "Look into and document this model and how it operates\n",
    "It's type, size etc to help with report writing\n",
    "\n",
    "training on bad words, while the rest is deemed positive\n",
    "can look to reerse this and compare"
   ]
  },
  {
   "cell_type": "code",
   "execution_count": null,
   "id": "bc09b131",
   "metadata": {},
   "outputs": [],
   "source": [
    "# train the model on dataset\n",
    "\n",
    "twitter, knn = Twitter(), KNN()\n",
    "\n",
    "bad_words_final = list(set(bad_words))\n",
    "good_words_final = list(set(good_words))\n",
    "# print(bad_words_final)\n",
    "\n",
    "# issue here is that the bad_list files have positive words - need to filter these out and seperate them from the \n",
    "# good words in order to train the model accurately\n",
    "# OR fix/verify the below list comprehension method?\n",
    "\n",
    "bad_words_final_filtered = [i for i in bad_words_final if i not in good_words_final]\n",
    "\n",
    "print(\"Length of complete bad list\", len(bad_words_final))\n",
    "print(\"Length of filtered bad list\", len(bad_words_final_filtered))\n",
    "\n",
    "print(\"Test non filtered good\", good_words_final)\n",
    "print(\"Test non filtered\", bad_words_final)\n",
    "print(\"Test filtered\", bad_words_final_filtered)\n",
    "\n",
    "for text in tqdm(df['review_text'][0:1000]):\n",
    "    v = tag(text)\n",
    "    v = [word for word, pos in v if pos == 'JJ'] # JJ = adjective\n",
    "    v = count(v) # {'sweet': 1}\n",
    "    \n",
    "#     print(\"list of adjectives to compare against\", list(v.keys()))\n",
    "    if any(word in bad_words_final_filtered for word in list(v.keys())):\n",
    "        p = 'Bad'\n",
    "    else:\n",
    "        p = 'Good'\n",
    "    \n",
    "#     print(p)\n",
    "#     print(\"---\")\n",
    "    if v:\n",
    "        knn.train(v, type=p)\n",
    "\n",
    "print(\"Training done\")"
   ]
  }
 ],
 "metadata": {
  "kernelspec": {
   "display_name": "Python 3 (ipykernel)",
   "language": "python",
   "name": "python3"
  },
  "language_info": {
   "codemirror_mode": {
    "name": "ipython",
    "version": 3
   },
   "file_extension": ".py",
   "mimetype": "text/x-python",
   "name": "python",
   "nbconvert_exporter": "python",
   "pygments_lexer": "ipython3",
   "version": "3.9.13"
  }
 },
 "nbformat": 4,
 "nbformat_minor": 5
}
