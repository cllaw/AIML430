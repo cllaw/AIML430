{
 "cells": [
  {
   "cell_type": "markdown",
   "id": "6b00bea3",
   "metadata": {},
   "source": [
    "Do Imports"
   ]
  },
  {
   "cell_type": "code",
   "execution_count": null,
   "id": "c47196ee",
   "metadata": {},
   "outputs": [],
   "source": [
    "import pandas as pd\n"
   ]
  },
  {
   "cell_type": "code",
   "execution_count": null,
   "id": "16cff864",
   "metadata": {},
   "outputs": [],
   "source": [
    "df = pd.read_json('./datasets/renttherunway_final_data.json')\n",
    "\n",
    "print(df.to_string()) "
   ]
  },
  {
   "cell_type": "code",
   "execution_count": null,
   "id": "73e4807f",
   "metadata": {},
   "outputs": [],
   "source": []
  }
 ],
 "metadata": {
  "kernelspec": {
   "display_name": "Python 3 (ipykernel)",
   "language": "python",
   "name": "python3"
  },
  "language_info": {
   "codemirror_mode": {
    "name": "ipython",
    "version": 3
   },
   "file_extension": ".py",
   "mimetype": "text/x-python",
   "name": "python",
   "nbconvert_exporter": "python",
   "pygments_lexer": "ipython3",
   "version": "3.7.0"
  }
 },
 "nbformat": 4,
 "nbformat_minor": 5
}
