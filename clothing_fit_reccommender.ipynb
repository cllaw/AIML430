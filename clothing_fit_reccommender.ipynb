{
 "cells": [
  {
   "cell_type": "markdown",
   "id": "6b00bea3",
   "metadata": {},
   "source": [
    "Do Imports"
   ]
  },
  {
   "cell_type": "code",
   "execution_count": null,
   "id": "81cf91ed",
   "metadata": {},
   "outputs": [],
   "source": [
    "# This is a pre requirement to the 'pattern framework below'\n",
    "import nltk\n",
    "nltk.download('omw-1.4')"
   ]
  },
  {
   "cell_type": "code",
   "execution_count": null,
   "id": "c47196ee",
   "metadata": {},
   "outputs": [],
   "source": [
    "from pattern.web import Twitter\n",
    "from pattern.text.en import tag\n",
    "from pattern.vector import KNN, count\n",
    "import pandas as pd\n"
   ]
  },
  {
   "cell_type": "code",
   "execution_count": null,
   "id": "16cff864",
   "metadata": {},
   "outputs": [],
   "source": [
    "# Test loading the dataset\n",
    "df = pd.read_json('./datasets/renttherunway_final_data.json')\n",
    "\n",
    "print(df.head()) "
   ]
  },
  {
   "cell_type": "code",
   "execution_count": null,
   "id": "bc09b131",
   "metadata": {},
   "outputs": [],
   "source": [
    "# train the model on dataset\n",
    "twitter, knn = Twitter(), KNN()\n",
    "\n",
    "for i in range(1, 3):\n",
    "    # TODO: Change this with the main review text from above\n",
    "    # Look into ways to classify the customer sentiment\n",
    "    # Experiment how much you need to change the dataset by in order to change sentiment\n",
    "    \n",
    "    # Further:\n",
    "    # Look into and document this model and how it operates\n",
    "    # It's type, size etc to help with report writing\n",
    "    for tweet in twitter.search('#win OR #fail', start=i, count=100):\n",
    "        s = tweet.text.lower()\n",
    "#         print(f\"{s}\")\n",
    "        p = '#win' in s and 'WIN' or 'FAIL'\n",
    "        v = tag(s)\n",
    "        print(f\"Tagged Output: {v}\")\n",
    "        v = [word for word, pos in v if pos == 'JJ'] # JJ = adjective\n",
    "        v = count(v) # {'sweet': 1}\n",
    "        if v:\n",
    "            knn.train(v, type=p)\n",
    "\n"
   ]
  },
  {
   "cell_type": "code",
   "execution_count": null,
   "id": "ddca515f",
   "metadata": {},
   "outputs": [],
   "source": [
    "# test output\n",
    "print(knn.classify('sweet potato burger'))\n",
    "print(knn.classify('stupid autocorrect'))\n",
    "print(knn.classify('stupid autocorrect'))"
   ]
  },
  {
   "cell_type": "code",
   "execution_count": null,
   "id": "469b1d67",
   "metadata": {},
   "outputs": [],
   "source": []
  }
 ],
 "metadata": {
  "kernelspec": {
   "display_name": "Python 3 (ipykernel)",
   "language": "python",
   "name": "python3"
  },
  "language_info": {
   "codemirror_mode": {
    "name": "ipython",
    "version": 3
   },
   "file_extension": ".py",
   "mimetype": "text/x-python",
   "name": "python",
   "nbconvert_exporter": "python",
   "pygments_lexer": "ipython3",
   "version": "3.9.13"
  }
 },
 "nbformat": 4,
 "nbformat_minor": 5
}
